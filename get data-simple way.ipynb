{
 "cells": [
  {
   "cell_type": "code",
   "execution_count": null,
   "id": "94db7e7b",
   "metadata": {},
   "outputs": [],
   "source": [
    "import time\n",
    "import pandas as pd\n",
    "binance = ccxt.binance()\n",
    "if binance.has['fetchOHLCV']:\n",
    "    for symbol in binance.load_markets():\n",
    "        time.sleep (binance.rateLimit / 1000) # time.sleep wants seconds\n",
    "        print(symbol, binance.fetch_ohlcv(symbol, '1d')) # one day"
   ]
  }
 ],
 "metadata": {
  "kernelspec": {
   "display_name": "Python 3 (ipykernel)",
   "language": "python",
   "name": "python3"
  },
  "language_info": {
   "codemirror_mode": {
    "name": "ipython",
    "version": 3
   },
   "file_extension": ".py",
   "mimetype": "text/x-python",
   "name": "python",
   "nbconvert_exporter": "python",
   "pygments_lexer": "ipython3",
   "version": "3.7.2"
  }
 },
 "nbformat": 4,
 "nbformat_minor": 5
}
