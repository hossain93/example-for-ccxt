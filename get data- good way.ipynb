{
 "cells": [
  {
   "cell_type": "markdown",
   "id": "e43d07a1",
   "metadata": {},
   "source": [
    "# میام تعداد داده ای که لازم داریم برای آنالیز تکنیکالی به لیمیت میدیم و تاریخ و ساعت الان هم میگیرم و سپس میام اون تعداد لیمیت براساس زمان از تاریخ و ساعتی که براساس میکروثانیه هست کم میکنیم و از اونجا زمان و تاریخ شروع بدست آوردن داده ها را بدست میاریم "
   ]
  },
  {
   "cell_type": "code",
   "execution_count": null,
   "id": "ba75f937",
   "metadata": {},
   "outputs": [],
   "source": [
    "import ccxt\n",
    "import calendar\n",
    "from datetime import datetime, date, timedelta\n",
    "import numpy as np\n",
    "import pandas as pd\n",
    "binance = ccxt.binance()\n",
    "\n",
    "def min_ohlcv(dt, pair, limit):\n",
    "    # UTC native object\n",
    "    since = calendar.timegm(dt.utctimetuple())*1000\n",
    "    ohlcv1 = binance.fetch_ohlcv(symbol=pair, timeframe='1m', since=since, limit=limit)\n",
    "    #ohlcv2 = binance.fetch_ohlcv(symbol=pair, timeframe='1m', since=since, limit=limit)\n",
    "    ohlcv = ohlcv1 #+ ohlcv2\n",
    "    return ohlcv\n",
    "m=121\n",
    "def ohlcv(dt, pair, period):\n",
    "    ohlcv = []\n",
    "    limit = 1000\n",
    "    if period == '1m':\n",
    "        limit = 750\n",
    "    elif period == '1d':\n",
    "        limit = 400\n",
    "    elif period == '1h':\n",
    "        limit = 24\n",
    "    elif period == '5m':\n",
    "        limit = 288\n",
    "    for i in dt:\n",
    "        start_dt = datetime.strptime(i, \"%Y%m%d\")\n",
    "        since = calendar.timegm(start_dt.utctimetuple())*1000\n",
    "        #if period == '1m':\n",
    "            #ohlcv.extend(min_ohlcv(start_dt, pair, limit))\n",
    "        #else:\n",
    "        ohlcv.extend(binance.fetch_ohlcv(symbol=pair, timeframe=period, since=since, limit=limit))\n",
    "    df = pd.DataFrame(ohlcv, columns = ['Time', 'Open', 'High', 'Low', 'Close', 'Volume'])\n",
    "    df['Time'] = [datetime.fromtimestamp(float(time)/1000) for time in df['Time']]\n",
    "    df['Open'] = df['Open'].astype(np.float64)\n",
    "    df['High'] = df['High'].astype(np.float64)\n",
    "    df['Low'] = df['Low'].astype(np.float64)\n",
    "    df['Close'] = df['Close'].astype(np.float64)\n",
    "    df['Volume'] = df['Volume'].astype(np.float64)\n",
    "    df.set_index('Time', inplace=True)\n",
    "    return df\n",
    "\n",
    "dt = ['20180101']\n",
    "df = ohlcv(dt, 'PEOPLE/USDT', '1d')\n",
    "pd.set_option('display.max_rows', df.shape[0]+1)\n",
    "df"
   ]
  },
  {
   "cell_type": "code",
   "execution_count": null,
   "id": "963807b1",
   "metadata": {},
   "outputs": [],
   "source": [
    "#این برای گرفتن داده ها برای یک مدت زمان خاصی است\n",
    "import ccxt\n",
    "import calendar\n",
    "from datetime import datetime\n",
    "\n",
    "binance = ccxt.binance()\n",
    "\n",
    "now = datetime.utcnow()\n",
    "\n",
    "unixtime = calendar.timegm(now.utctimetuple())\n",
    "since = (unixtime - 60*60) * 1000 # UTC timestamp in milliseconds (60*60=1h)\n",
    "print(now,\"**\",unixtime,\"**\",since)\n",
    "ohlcv = binance.fetch_ohlcv(symbol='BTC/USDT', timeframe='5m', since=since, limit=12)\n",
    "start_dt = datetime.fromtimestamp(ohlcv[0][0]/1000)\n",
    "end_dt = datetime.fromtimestamp(ohlcv[-1][0]/1000)\n",
    "\n",
    "# convert it into Pandas DataFrame\n",
    "import pandas as pd\n",
    "\n",
    "df = pd.DataFrame(ohlcv, columns = ['Time', 'Open', 'High', 'Low', 'Close', 'Volume'])\n",
    "df['Time'] = [datetime.fromtimestamp(float(time)/1000) for time in df['Time']]\n",
    "df.set_index('Time', inplace=True)\n",
    "df"
   ]
  }
 ],
 "metadata": {
  "kernelspec": {
   "display_name": "Python 3 (ipykernel)",
   "language": "python",
   "name": "python3"
  },
  "language_info": {
   "codemirror_mode": {
    "name": "ipython",
    "version": 3
   },
   "file_extension": ".py",
   "mimetype": "text/x-python",
   "name": "python",
   "nbconvert_exporter": "python",
   "pygments_lexer": "ipython3",
   "version": "3.7.2"
  }
 },
 "nbformat": 4,
 "nbformat_minor": 5
}
