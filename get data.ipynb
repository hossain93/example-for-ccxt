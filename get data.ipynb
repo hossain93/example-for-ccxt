{
 "cells": [
  {
   "cell_type": "code",
   "execution_count": null,
   "id": "429eabbc",
   "metadata": {},
   "outputs": [],
   "source": [
    "import datetime\n",
    "import numpy as np\n",
    "import pandas as pd\n",
    "import ccxt\n",
    "import calendar\n",
    "from datetime import datetime, date, timedelta\n",
    "binance = ccxt.binance()\n",
    "print(binance.iso8601(binance.milliseconds()), 'Loading markets')\n",
    "markets = binance.load_markets()\n",
    "print(binance.iso8601(binance.milliseconds()), 'Markets loaded')\n",
    "\n",
    "from_timestamp = binance.parse8601 ('2022-01-16T00:00:00Z')\n",
    "print(from_timestamp)\n",
    "now = binance.milliseconds()\n",
    "timeframe = '5m'\n",
    "while from_timestamp < now:\n",
    "    print('Fetching candles starting from', binance.iso8601(from_timestamp))\n",
    "    ohlcvs = binance.fetch_ohlcv('BTC/USDT', timeframe, from_timestamp)\n",
    "    if not len(ohlcvs):\n",
    "        break\n",
    "    from_timestamp = ohlcvs[-1][0] + binance.parse_timeframe(timeframe) * 1000\n",
    "    print(binance.iso8601(binance.milliseconds()), ohlcvs)"
   ]
  },
  {
   "cell_type": "code",
   "execution_count": null,
   "id": "2b74f613",
   "metadata": {},
   "outputs": [],
   "source": [
    "from datetime import datetime, date, timedelta\n",
    "\n",
    "start_day = \"20190101\"\n",
    "start_dt = datetime.strptime(start_day, \"%Y%m%d\")\n",
    "end_day = \"20190331\"\n",
    "end_dt = datetime.strptime(end_day, \"%Y%m%d\")\n",
    "days_num = (end_dt - start_dt).days + 1\n",
    "datelist = [start_dt + timedelta(days=x) for x in range(days_num)]\n",
    "datelist = [date.strftime(\"%Y%m%d\") for date in datelist]\n",
    "\n",
    "df = ohlcv(datelist, 'ETH/BTC', '1d')\n",
    "#این میاد برای هر تاریخ داده ها رو بدست میاره و  چون داده ها پشت سر هم هست مقدار لیمیت بزرگتر از یک روی اون اثر نداره چون تاریخ ها دوباره روی اون میاد\n",
    "# hourly ETH/BTC ohlcv data between Jan 2019 and Aug 2020 from crypto exchange\n",
    "df"
   ]
  }
 ],
 "metadata": {
  "kernelspec": {
   "display_name": "Python 3 (ipykernel)",
   "language": "python",
   "name": "python3"
  },
  "language_info": {
   "codemirror_mode": {
    "name": "ipython",
    "version": 3
   },
   "file_extension": ".py",
   "mimetype": "text/x-python",
   "name": "python",
   "nbconvert_exporter": "python",
   "pygments_lexer": "ipython3",
   "version": "3.7.2"
  }
 },
 "nbformat": 4,
 "nbformat_minor": 5
}
