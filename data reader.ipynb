{
 "cells": [
  {
   "cell_type": "code",
   "execution_count": null,
   "id": "c5b01f2b",
   "metadata": {},
   "outputs": [],
   "source": [
    "import warnings\n",
    "import datetime\n",
    "import numpy as np\n",
    "import pandas as pd\n",
    "import pandas_datareader.data as pdr\n",
    "warnings.simplefilter('ignore', FutureWarning)\n",
    "\n",
    "# fetch single asset data\n",
    "def getSingleAssetData(ticker, date_from, date_to):\n",
    "    def getData(ticker):\n",
    "        data = pdr.DataReader(ticker, 'yahoo', date_from, date_to)\n",
    "        return data\n",
    "    return getData(ticker)\n",
    "  \n",
    "date_from = datetime.date(2019, 1, 1)\n",
    "date_to = datetime.date(2020, 8, 31)\n",
    "df = getSingleAssetData('AMZN', date_from, date_to) # read Amazon.com, Inc\n",
    "df.head()"
   ]
  }
 ],
 "metadata": {
  "kernelspec": {
   "display_name": "Python 3 (ipykernel)",
   "language": "python",
   "name": "python3"
  },
  "language_info": {
   "codemirror_mode": {
    "name": "ipython",
    "version": 3
   },
   "file_extension": ".py",
   "mimetype": "text/x-python",
   "name": "python",
   "nbconvert_exporter": "python",
   "pygments_lexer": "ipython3",
   "version": "3.7.2"
  }
 },
 "nbformat": 4,
 "nbformat_minor": 5
}
