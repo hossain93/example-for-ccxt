{
 "cells": [
  {
   "cell_type": "code",
   "execution_count": null,
   "id": "659a18fa",
   "metadata": {},
   "outputs": [],
   "source": [
    "import ccxt\n",
    "import pandas as pd\n",
    "import sys\n",
    "from pprint import pprint\n",
    "# import logging\n",
    "# logging.basicConfig(level=logging.DEBUG)\n",
    "\n",
    "print('python', sys.version)\n",
    "print('CCXT Version:', ccxt.__version__)\n",
    "\n",
    "exchange = ccxt.kucoinfutures({\n",
    "    'adjustForTimeDifference': True,\n",
    "    \"apiKey\": '...',\n",
    "    \"secret\": '...',\n",
    "    'password': 'This is you 6-7 digit trading password',\n",
    "})\n",
    "# exchange.verbose = True\n",
    "\n",
    "securities = pd.DataFrame(exchange.load_markets()).transpose()\n",
    "pprint(securities)"
   ]
  },
  {
   "cell_type": "markdown",
   "id": "580b7511",
   "metadata": {},
   "source": [
    "# if you want to create an order on kucoinfutures you can do"
   ]
  },
  {
   "cell_type": "code",
   "execution_count": null,
   "id": "a9bdd57b",
   "metadata": {},
   "outputs": [],
   "source": [
    "order_response = exchange.createOrder('ADA/USDT:USDT', 'limit', 'buy', 1, 1, {'leverage': 10})\n",
    "pprint(order_response)"
   ]
  }
 ],
 "metadata": {
  "kernelspec": {
   "display_name": "Python 3 (ipykernel)",
   "language": "python",
   "name": "python3"
  },
  "language_info": {
   "codemirror_mode": {
    "name": "ipython",
    "version": 3
   },
   "file_extension": ".py",
   "mimetype": "text/x-python",
   "name": "python",
   "nbconvert_exporter": "python",
   "pygments_lexer": "ipython3",
   "version": "3.7.2"
  }
 },
 "nbformat": 4,
 "nbformat_minor": 5
}
